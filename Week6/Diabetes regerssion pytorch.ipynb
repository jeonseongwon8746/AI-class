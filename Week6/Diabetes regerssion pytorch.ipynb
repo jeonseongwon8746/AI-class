{
 "cells": [
  {
   "cell_type": "code",
   "execution_count": 1,
   "id": "da8c4570-957b-4031-bb0b-3b956a365aaa",
   "metadata": {},
   "outputs": [],
   "source": [
    "import pandas as pd\n",
    "import numpy as np\n",
    "from sklearn.model_selection import train_test_split\n",
    "from sklearn.preprocessing import StandardScaler, LabelEncoder\n",
    "from sklearn.metrics import mean_squared_error\n",
    "import torch\n",
    "from torch import nn\n",
    "from torch.utils.data import TensorDataset, DataLoader\n",
    "import torch.optim as optim"
   ]
  },
  {
   "cell_type": "code",
   "execution_count": 27,
   "id": "ded12228-9f69-4631-b95f-d4b0f649516c",
   "metadata": {},
   "outputs": [
    {
     "data": {
      "text/plain": [
       "((614, 7), (154, 7), (614,), (154,))"
      ]
     },
     "execution_count": 27,
     "metadata": {},
     "output_type": "execute_result"
    }
   ],
   "source": [
    "# 데이터 로드\n",
    "data = pd.read_csv(r\"C:\\Gachon\\3-1\\인공지능개론\\diabetes.csv\")\n",
    "\n",
    "data = data.drop('Outcome', axis = 1)\n",
    "\n",
    "# 입력과 타겟 분리\n",
    "X = data.drop('BMI', axis=1).values\n",
    "y = data['BMI'].values.astype(np.float32)\n",
    "\n",
    "# 정규화\n",
    "scaler = StandardScaler()\n",
    "X = scaler.fit_transform(X)\n",
    "\n",
    "# 데이터 분할\n",
    "X_train, X_test, y_train, y_test = train_test_split(X, y, test_size=0.2, random_state=42)\n",
    "\n",
    "X_train.shape, X_test.shape, y_train.shape, y_test.shape, "
   ]
  },
  {
   "cell_type": "code",
   "execution_count": 29,
   "id": "cb3d293a-9628-403e-a205-d47dac103eb9",
   "metadata": {},
   "outputs": [],
   "source": [
    "# TensorDataset으로 래핑\n",
    "X_train_tensor = torch.tensor(X_train, dtype=torch.float32)\n",
    "y_train_tensor = torch.tensor(y_train, dtype=torch.float32).view(-1, 1)\n",
    "X_test_tensor = torch.tensor(X_test, dtype=torch.float32)\n",
    "y_test_tensor = torch.tensor(y_test, dtype=torch.float32).view(-1, 1)\n",
    "\n",
    "train_dataset = TensorDataset(X_train_tensor, y_train_tensor)\n",
    "test_dataset = TensorDataset(X_test_tensor, y_test_tensor)\n",
    "\n",
    "train_loader = DataLoader(train_dataset, batch_size=32, shuffle=True)\n",
    "test_loader = DataLoader(test_dataset, batch_size=32)"
   ]
  },
  {
   "cell_type": "code",
   "execution_count": 31,
   "id": "fc2f3a58-5ddf-4544-9a9f-78340d166616",
   "metadata": {},
   "outputs": [],
   "source": [
    "\n",
    "\n",
    "# 회귀 모델 정의\n",
    "class RegressionModel(nn.Module):\n",
    "    def __init__(self):\n",
    "        super(RegressionModel, self).__init__()\n",
    "        self.model = nn.Sequential(\n",
    "            nn.Linear(7, 64),\n",
    "            nn.ReLU(),\n",
    "            nn.Linear(64, 32),\n",
    "            nn.ReLU(),\n",
    "            nn.Linear(32, 1)\n",
    "        )\n",
    "\n",
    "    def forward(self, x):\n",
    "        return self.model(x)\n",
    "\n",
    "device = torch.device(\"cuda\" if torch.cuda.is_available() else \"cpu\")\n",
    "model = RegressionModel().to(device)\n",
    "criterion = nn.MSELoss()\n",
    "optimizer = optim.Adam(model.parameters(), lr=0.001)"
   ]
  },
  {
   "cell_type": "code",
   "execution_count": 33,
   "id": "10b3e727-04ed-463d-b1c8-eaa4364f0cf3",
   "metadata": {},
   "outputs": [
    {
     "name": "stdout",
     "output_type": "stream",
     "text": [
      "Epoch 1, Loss: 1046.0974\n",
      "Epoch 2, Loss: 996.1867\n",
      "Epoch 3, Loss: 909.5416\n",
      "Epoch 4, Loss: 747.8691\n",
      "Epoch 5, Loss: 563.1932\n",
      "Epoch 6, Loss: 352.2857\n",
      "Epoch 7, Loss: 195.7121\n",
      "Epoch 8, Loss: 107.9185\n",
      "Epoch 9, Loss: 88.5818\n",
      "Epoch 10, Loss: 76.7130\n",
      "Epoch 11, Loss: 72.6394\n",
      "Epoch 12, Loss: 71.3213\n",
      "Epoch 13, Loss: 68.2213\n",
      "Epoch 14, Loss: 67.1987\n",
      "Epoch 15, Loss: 63.6721\n",
      "Epoch 16, Loss: 66.6822\n",
      "Epoch 17, Loss: 62.8231\n",
      "Epoch 18, Loss: 58.9289\n",
      "Epoch 19, Loss: 58.2302\n",
      "Epoch 20, Loss: 57.3656\n",
      "Epoch 21, Loss: 61.7461\n",
      "Epoch 22, Loss: 57.6208\n",
      "Epoch 23, Loss: 53.7965\n",
      "Epoch 24, Loss: 52.8959\n",
      "Epoch 25, Loss: 51.3746\n",
      "Epoch 26, Loss: 50.2842\n",
      "Epoch 27, Loss: 50.3363\n",
      "Epoch 28, Loss: 49.6990\n",
      "Epoch 29, Loss: 49.2035\n",
      "Epoch 30, Loss: 47.8142\n",
      "Epoch 31, Loss: 55.3722\n",
      "Epoch 32, Loss: 45.8997\n",
      "Epoch 33, Loss: 45.6517\n",
      "Epoch 34, Loss: 46.2613\n",
      "Epoch 35, Loss: 44.4897\n",
      "Epoch 36, Loss: 45.1141\n",
      "Epoch 37, Loss: 43.7256\n",
      "Epoch 38, Loss: 43.0069\n",
      "Epoch 39, Loss: 43.6824\n",
      "Epoch 40, Loss: 42.5015\n",
      "Epoch 41, Loss: 42.3271\n",
      "Epoch 42, Loss: 44.4239\n",
      "Epoch 43, Loss: 40.7410\n",
      "Epoch 44, Loss: 41.1928\n",
      "Epoch 45, Loss: 39.9839\n",
      "Epoch 46, Loss: 48.1713\n",
      "Epoch 47, Loss: 40.2616\n",
      "Epoch 48, Loss: 39.3570\n",
      "Epoch 49, Loss: 39.6699\n",
      "Epoch 50, Loss: 38.2023\n"
     ]
    }
   ],
   "source": [
    "# 학습 루프\n",
    "model.train()\n",
    "for epoch in range(50):\n",
    "    total_loss = 0\n",
    "    for X_batch, y_batch in train_loader:\n",
    "        X_batch, y_batch = X_batch.to(device), y_batch.to(device)\n",
    "        optimizer.zero_grad()\n",
    "        output = model(X_batch)\n",
    "        loss = criterion(output, y_batch)\n",
    "        loss.backward()\n",
    "        optimizer.step()\n",
    "        total_loss += loss.item()\n",
    "    print(f\"Epoch {epoch+1}, Loss: {total_loss / len(train_loader):.4f}\")"
   ]
  },
  {
   "cell_type": "code",
   "execution_count": 35,
   "id": "417edf07-9198-48f8-9b5b-5dc4bcf55c6f",
   "metadata": {},
   "outputs": [
    {
     "name": "stdout",
     "output_type": "stream",
     "text": [
      "Test MSE: 65.1278\n"
     ]
    }
   ],
   "source": [
    "# 평가\n",
    "model.eval()\n",
    "preds, actuals = [], []\n",
    "with torch.no_grad():\n",
    "    for X_batch, y_batch in test_loader:\n",
    "        X_batch = X_batch.to(device)\n",
    "        outputs = model(X_batch).cpu().numpy()\n",
    "        preds.extend(outputs)\n",
    "        actuals.extend(y_batch.numpy())\n",
    "\n",
    "mse = mean_squared_error(actuals, preds)\n",
    "print(f\"Test MSE: {mse:.4f}\")"
   ]
  },
  {
   "cell_type": "code",
   "execution_count": null,
   "id": "d296f9fa-8eb2-4335-aa18-76ce9992dfed",
   "metadata": {},
   "outputs": [],
   "source": []
  }
 ],
 "metadata": {
  "kernelspec": {
   "display_name": "Python [conda env:base] *",
   "language": "python",
   "name": "conda-base-py"
  },
  "language_info": {
   "codemirror_mode": {
    "name": "ipython",
    "version": 3
   },
   "file_extension": ".py",
   "mimetype": "text/x-python",
   "name": "python",
   "nbconvert_exporter": "python",
   "pygments_lexer": "ipython3",
   "version": "3.12.7"
  }
 },
 "nbformat": 4,
 "nbformat_minor": 5
}

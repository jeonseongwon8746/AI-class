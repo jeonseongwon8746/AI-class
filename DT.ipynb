{
 "cells": [
  {
   "cell_type": "code",
   "execution_count": null,
   "id": "85c73213-f6d2-47b6-a3a2-b3c1059733f6",
   "metadata": {},
   "outputs": [],
   "source": [
    "DT분류"
   ]
  },
  {
   "cell_type": "code",
   "execution_count": 2,
   "id": "fcd48d34-fab1-448d-99b3-654764f71828",
   "metadata": {},
   "outputs": [
    {
     "name": "stdout",
     "output_type": "stream",
     "text": [
      "   SepalLength  SepalWidth  PetalLength  PetalWidth         Name\n",
      "0          5.1         3.5          1.4         0.2  Iris-setosa\n",
      "1          4.9         3.0          1.4         0.2  Iris-setosa\n",
      "2          4.7         3.2          1.3         0.2  Iris-setosa\n",
      "3          4.6         3.1          1.5         0.2  Iris-setosa\n",
      "4          5.0         3.6          1.4         0.2  Iris-setosa\n",
      "모델 정확도: 1.0000\n"
     ]
    }
   ],
   "source": [
    "import pandas as pd\n",
    "from sklearn.model_selection import train_test_split\n",
    "from sklearn.tree import DecisionTreeClassifier\n",
    "from sklearn.metrics import accuracy_score\n",
    "\n",
    "# 붓꽃 데이터 CSV 파일 읽기\n",
    "file_path = \"C:/Gachon/3-1/인공지능개론/iris.csv\" \n",
    "df = pd.read_csv(file_path)\n",
    "\n",
    "# 데이터 확인\n",
    "df.columns = [col.strip() for col in df.columns]  # 혹시 모를 공백 제거\n",
    "print(df.head())\n",
    "\n",
    "# 특성과 레이블 분리\n",
    "X = df.iloc[:, :-1]  # 마지막 열을 제외한 나머지는 입력 특성\n",
    "y = df.iloc[:, -1]   # 마지막 열은 클래스 레이블\n",
    "\n",
    "# 학습 데이터와 테스트 데이터로 분할\n",
    "X_train, X_test, y_train, y_test = train_test_split(X, y, test_size=0.2, random_state=42)\n",
    "\n",
    "# 의사결정나무 모델 생성 및 학습\n",
    "clf = DecisionTreeClassifier(random_state=42)\n",
    "clf.fit(X_train, y_train)\n",
    "\n",
    "# 예측 수행\n",
    "y_pred = clf.predict(X_test)\n",
    "\n",
    "# 정확도 평가\n",
    "accuracy = accuracy_score(y_test, y_pred)\n",
    "print(f\"모델 정확도: {accuracy:.4f}\")\n"
   ]
  }
 ],
 "metadata": {
  "kernelspec": {
   "display_name": "Python [conda env:base] *",
   "language": "python",
   "name": "conda-base-py"
  },
  "language_info": {
   "codemirror_mode": {
    "name": "ipython",
    "version": 3
   },
   "file_extension": ".py",
   "mimetype": "text/x-python",
   "name": "python",
   "nbconvert_exporter": "python",
   "pygments_lexer": "ipython3",
   "version": "3.12.7"
  }
 },
 "nbformat": 4,
 "nbformat_minor": 5
}

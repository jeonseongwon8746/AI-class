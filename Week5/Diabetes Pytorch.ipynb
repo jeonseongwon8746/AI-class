{
 "cells": [
  {
   "cell_type": "code",
   "execution_count": 1,
   "id": "339ae860-209e-4c3e-a3b3-099368edc733",
   "metadata": {},
   "outputs": [
    {
     "name": "stdout",
     "output_type": "stream",
     "text": [
      "Collecting torch\n",
      "  Using cached torch-2.6.0-cp312-cp312-win_amd64.whl.metadata (28 kB)\n",
      "Collecting torchvision\n",
      "  Using cached torchvision-0.21.0-cp312-cp312-win_amd64.whl.metadata (6.3 kB)\n",
      "Collecting torchaudio\n",
      "  Using cached torchaudio-2.6.0-cp312-cp312-win_amd64.whl.metadata (6.7 kB)\n",
      "Requirement already satisfied: filelock in c:\\users\\cha08\\anaconda3\\lib\\site-packages (from torch) (3.13.1)\n",
      "Requirement already satisfied: typing-extensions>=4.10.0 in c:\\users\\cha08\\anaconda3\\lib\\site-packages (from torch) (4.11.0)\n",
      "Requirement already satisfied: networkx in c:\\users\\cha08\\anaconda3\\lib\\site-packages (from torch) (3.3)\n",
      "Requirement already satisfied: jinja2 in c:\\users\\cha08\\anaconda3\\lib\\site-packages (from torch) (3.1.4)\n",
      "Requirement already satisfied: fsspec in c:\\users\\cha08\\anaconda3\\lib\\site-packages (from torch) (2024.6.1)\n",
      "Requirement already satisfied: setuptools in c:\\users\\cha08\\anaconda3\\lib\\site-packages (from torch) (75.1.0)\n",
      "Collecting sympy==1.13.1 (from torch)\n",
      "  Using cached sympy-1.13.1-py3-none-any.whl.metadata (12 kB)\n",
      "Requirement already satisfied: mpmath<1.4,>=1.1.0 in c:\\users\\cha08\\anaconda3\\lib\\site-packages (from sympy==1.13.1->torch) (1.3.0)\n",
      "Requirement already satisfied: numpy in c:\\users\\cha08\\anaconda3\\lib\\site-packages (from torchvision) (1.26.4)\n",
      "Requirement already satisfied: pillow!=8.3.*,>=5.3.0 in c:\\users\\cha08\\anaconda3\\lib\\site-packages (from torchvision) (10.4.0)\n",
      "Requirement already satisfied: MarkupSafe>=2.0 in c:\\users\\cha08\\anaconda3\\lib\\site-packages (from jinja2->torch) (2.1.3)\n",
      "Downloading torch-2.6.0-cp312-cp312-win_amd64.whl (204.1 MB)\n",
      "   ---------------------------------------- 0.0/204.1 MB ? eta -:--:--\n",
      "   ---------------------------------------- 2.4/204.1 MB 12.2 MB/s eta 0:00:17\n",
      "    --------------------------------------- 4.5/204.1 MB 11.7 MB/s eta 0:00:18\n",
      "   - -------------------------------------- 6.6/204.1 MB 10.6 MB/s eta 0:00:19\n",
      "   - -------------------------------------- 9.2/204.1 MB 11.0 MB/s eta 0:00:18\n",
      "   -- ------------------------------------- 11.5/204.1 MB 11.3 MB/s eta 0:00:18\n",
      "   -- ------------------------------------- 14.2/204.1 MB 11.4 MB/s eta 0:00:17\n",
      "   --- ------------------------------------ 16.5/204.1 MB 11.4 MB/s eta 0:00:17\n",
      "   --- ------------------------------------ 19.1/204.1 MB 11.5 MB/s eta 0:00:17\n",
      "   ---- ----------------------------------- 21.8/204.1 MB 11.6 MB/s eta 0:00:16\n",
      "   ---- ----------------------------------- 24.1/204.1 MB 11.6 MB/s eta 0:00:16\n",
      "   ----- ---------------------------------- 26.5/204.1 MB 11.7 MB/s eta 0:00:16\n",
      "   ----- ---------------------------------- 28.8/204.1 MB 11.6 MB/s eta 0:00:16\n",
      "   ------ --------------------------------- 31.5/204.1 MB 11.7 MB/s eta 0:00:15\n",
      "   ------ --------------------------------- 34.1/204.1 MB 11.7 MB/s eta 0:00:15\n",
      "   ------- -------------------------------- 36.4/204.1 MB 11.8 MB/s eta 0:00:15\n",
      "   ------- -------------------------------- 39.1/204.1 MB 11.8 MB/s eta 0:00:15\n",
      "   -------- ------------------------------- 41.4/204.1 MB 11.8 MB/s eta 0:00:14\n",
      "   -------- ------------------------------- 43.8/204.1 MB 11.8 MB/s eta 0:00:14\n",
      "   --------- ------------------------------ 46.4/204.1 MB 11.8 MB/s eta 0:00:14\n",
      "   --------- ------------------------------ 48.8/204.1 MB 11.8 MB/s eta 0:00:14\n",
      "   ---------- ----------------------------- 51.4/204.1 MB 11.9 MB/s eta 0:00:13\n",
      "   ---------- ----------------------------- 54.0/204.1 MB 11.9 MB/s eta 0:00:13\n",
      "   ----------- ---------------------------- 56.6/204.1 MB 11.9 MB/s eta 0:00:13\n",
      "   ----------- ---------------------------- 59.2/204.1 MB 11.9 MB/s eta 0:00:13\n",
      "   ------------ --------------------------- 61.9/204.1 MB 11.9 MB/s eta 0:00:12\n",
      "   ------------ --------------------------- 64.5/204.1 MB 11.9 MB/s eta 0:00:12\n",
      "   ------------- -------------------------- 67.1/204.1 MB 11.9 MB/s eta 0:00:12\n",
      "   ------------- -------------------------- 69.5/204.1 MB 11.9 MB/s eta 0:00:12\n",
      "   -------------- ------------------------- 71.8/204.1 MB 11.9 MB/s eta 0:00:12\n",
      "   -------------- ------------------------- 74.4/204.1 MB 11.9 MB/s eta 0:00:11\n",
      "   --------------- ------------------------ 77.1/204.1 MB 11.9 MB/s eta 0:00:11\n",
      "   --------------- ------------------------ 79.4/204.1 MB 11.9 MB/s eta 0:00:11\n",
      "   --------------- ------------------------ 81.3/204.1 MB 11.7 MB/s eta 0:00:11\n",
      "   ---------------- ----------------------- 83.6/204.1 MB 11.7 MB/s eta 0:00:11\n",
      "   ---------------- ----------------------- 86.5/204.1 MB 11.7 MB/s eta 0:00:11\n",
      "   ----------------- ---------------------- 89.1/204.1 MB 11.7 MB/s eta 0:00:10\n",
      "   ----------------- ---------------------- 91.8/204.1 MB 11.7 MB/s eta 0:00:10\n",
      "   ------------------ --------------------- 94.4/204.1 MB 11.7 MB/s eta 0:00:10\n",
      "   ------------------- -------------------- 97.0/204.1 MB 11.7 MB/s eta 0:00:10\n",
      "   ------------------- -------------------- 99.6/204.1 MB 11.7 MB/s eta 0:00:09\n",
      "   ------------------- ------------------- 102.2/204.1 MB 11.7 MB/s eta 0:00:09\n",
      "   -------------------- ------------------ 104.9/204.1 MB 11.7 MB/s eta 0:00:09\n",
      "   -------------------- ------------------ 107.2/204.1 MB 11.7 MB/s eta 0:00:09\n",
      "   -------------------- ------------------ 109.8/204.1 MB 11.7 MB/s eta 0:00:09\n",
      "   --------------------- ----------------- 112.5/204.1 MB 11.7 MB/s eta 0:00:08\n",
      "   --------------------- ----------------- 115.1/204.1 MB 11.8 MB/s eta 0:00:08\n",
      "   ---------------------- ---------------- 117.7/204.1 MB 11.8 MB/s eta 0:00:08\n",
      "   ---------------------- ---------------- 120.3/204.1 MB 11.8 MB/s eta 0:00:08\n",
      "   ----------------------- --------------- 122.9/204.1 MB 11.8 MB/s eta 0:00:07\n",
      "   ----------------------- --------------- 125.6/204.1 MB 11.8 MB/s eta 0:00:07\n",
      "   ------------------------ -------------- 127.9/204.1 MB 11.8 MB/s eta 0:00:07\n",
      "   ------------------------ -------------- 130.3/204.1 MB 11.8 MB/s eta 0:00:07\n",
      "   ------------------------- ------------- 132.6/204.1 MB 11.7 MB/s eta 0:00:07\n",
      "   ------------------------- ------------- 135.3/204.1 MB 11.8 MB/s eta 0:00:06\n",
      "   -------------------------- ------------ 137.9/204.1 MB 11.8 MB/s eta 0:00:06\n",
      "   -------------------------- ------------ 140.5/204.1 MB 11.8 MB/s eta 0:00:06\n",
      "   --------------------------- ----------- 142.9/204.1 MB 11.7 MB/s eta 0:00:06\n",
      "   --------------------------- ----------- 145.0/204.1 MB 11.7 MB/s eta 0:00:06\n",
      "   --------------------------- ----------- 146.5/204.1 MB 11.6 MB/s eta 0:00:05\n",
      "   ---------------------------- ---------- 149.2/204.1 MB 11.6 MB/s eta 0:00:05\n",
      "   ---------------------------- ---------- 151.8/204.1 MB 11.7 MB/s eta 0:00:05\n",
      "   ----------------------------- --------- 154.4/204.1 MB 11.7 MB/s eta 0:00:05\n",
      "   ------------------------------ -------- 157.0/204.1 MB 11.7 MB/s eta 0:00:05\n",
      "   ------------------------------ -------- 159.6/204.1 MB 11.7 MB/s eta 0:00:04\n",
      "   ------------------------------- ------- 162.3/204.1 MB 11.7 MB/s eta 0:00:04\n",
      "   ------------------------------- ------- 164.9/204.1 MB 11.7 MB/s eta 0:00:04\n",
      "   -------------------------------- ------ 167.5/204.1 MB 11.7 MB/s eta 0:00:04\n",
      "   -------------------------------- ------ 170.1/204.1 MB 11.7 MB/s eta 0:00:03\n",
      "   --------------------------------- ----- 172.8/204.1 MB 11.7 MB/s eta 0:00:03\n",
      "   --------------------------------- ----- 175.4/204.1 MB 11.7 MB/s eta 0:00:03\n",
      "   ---------------------------------- ---- 178.0/204.1 MB 11.7 MB/s eta 0:00:03\n",
      "   ---------------------------------- ---- 180.6/204.1 MB 11.7 MB/s eta 0:00:03\n",
      "   ---------------------------------- ---- 183.0/204.1 MB 11.7 MB/s eta 0:00:02\n",
      "   ----------------------------------- --- 184.3/204.1 MB 11.6 MB/s eta 0:00:02\n",
      "   ----------------------------------- --- 186.6/204.1 MB 11.6 MB/s eta 0:00:02\n",
      "   ------------------------------------ -- 189.3/204.1 MB 11.6 MB/s eta 0:00:02\n",
      "   ------------------------------------ -- 191.9/204.1 MB 11.6 MB/s eta 0:00:02\n",
      "   ------------------------------------- - 194.5/204.1 MB 11.6 MB/s eta 0:00:01\n",
      "   ------------------------------------- - 196.9/204.1 MB 11.6 MB/s eta 0:00:01\n",
      "   ------------------------------------- - 197.9/204.1 MB 11.6 MB/s eta 0:00:01\n",
      "   --------------------------------------  200.5/204.1 MB 11.5 MB/s eta 0:00:01\n",
      "   --------------------------------------  201.9/204.1 MB 11.5 MB/s eta 0:00:01\n",
      "   --------------------------------------  203.9/204.1 MB 11.5 MB/s eta 0:00:01\n",
      "   --------------------------------------  203.9/204.1 MB 11.5 MB/s eta 0:00:01\n",
      "   --------------------------------------  203.9/204.1 MB 11.5 MB/s eta 0:00:01\n",
      "   --------------------------------------- 204.1/204.1 MB 11.2 MB/s eta 0:00:00\n",
      "Downloading sympy-1.13.1-py3-none-any.whl (6.2 MB)\n",
      "   ---------------------------------------- 0.0/6.2 MB ? eta -:--:--\n",
      "   --------------- ------------------------ 2.4/6.2 MB 13.4 MB/s eta 0:00:01\n",
      "   -------------------------------- ------- 5.0/6.2 MB 12.6 MB/s eta 0:00:01\n",
      "   ---------------------------------------- 6.2/6.2 MB 11.5 MB/s eta 0:00:00\n",
      "Downloading torchvision-0.21.0-cp312-cp312-win_amd64.whl (1.6 MB)\n",
      "   ---------------------------------------- 0.0/1.6 MB ? eta -:--:--\n",
      "   ---------------------------------------- 1.6/1.6 MB 10.4 MB/s eta 0:00:00\n",
      "Downloading torchaudio-2.6.0-cp312-cp312-win_amd64.whl (2.4 MB)\n",
      "   ---------------------------------------- 0.0/2.4 MB ? eta -:--:--\n",
      "   -------------------------------------- - 2.4/2.4 MB 12.2 MB/s eta 0:00:01\n",
      "   ---------------------------------------- 2.4/2.4 MB 10.0 MB/s eta 0:00:00\n",
      "Installing collected packages: sympy, torch, torchvision, torchaudio\n",
      "  Attempting uninstall: sympy\n",
      "    Found existing installation: sympy 1.13.2\n",
      "    Uninstalling sympy-1.13.2:\n",
      "      Successfully uninstalled sympy-1.13.2\n",
      "Successfully installed sympy-1.13.1 torch-2.6.0 torchaudio-2.6.0 torchvision-0.21.0\n"
     ]
    }
   ],
   "source": [
    "!pip install torch torchvision torchaudio"
   ]
  },
  {
   "cell_type": "code",
   "execution_count": 5,
   "id": "bdb42f1a-4916-47ee-8728-b73932d3601a",
   "metadata": {},
   "outputs": [
    {
     "name": "stdout",
     "output_type": "stream",
     "text": [
      "Collecting torchsummary"
     ]
    }
   ],
   "source": [
    "!pip install torchsummary"
   ]
  },
  {
   "cell_type": "code",
   "execution_count": null,
   "id": "d6fb5308-2dc0-4bb6-9dd5-8f0cd5e6396f",
   "metadata": {},
   "outputs": [],
   "source": [
    "\n",
    "\n",
    "import pandas as pd\n",
    "import numpy as np\n",
    "import torch\n",
    "import torch.nn as nn\n",
    "import torch.optim as optim\n",
    "from torch.utils.data import Dataset, DataLoader, TensorDataset\n",
    "from sklearn.preprocessing import LabelEncoder\n",
    "from sklearn.metrics import precision_score, recall_score, f1_score, roc_auc_score, confusion_matrix, ConfusionMatrixDisplay\n",
    "\n",
    "import matplotlib.pyplot as plt\n",
    "from torchsummary import summary\n",
    "import numpy as np\n",
    "\n",
    "data = pd.read_csv(r\"C:\\Gachon\\3-1\\인공지능개론\\diabetes.csv\",)\n",
    "\n",
    "data\n"
   ]
  },
  {
   "cell_type": "code",
   "execution_count": 23,
   "id": "a40f9401-5699-4cee-aef6-fdde4bd2cb7f",
   "metadata": {},
   "outputs": [
    {
     "data": {
      "text/plain": [
       "Pregnancies                 0\n",
       "Glucose                     0\n",
       "BloodPressure               0\n",
       "SkinThickness               0\n",
       "Insulin                     0\n",
       "BMI                         0\n",
       "DiabetesPedigreeFunction    0\n",
       "Age                         0\n",
       "Outcome                     0\n",
       "dtype: int64"
      ]
     },
     "execution_count": 23,
     "metadata": {},
     "output_type": "execute_result"
    }
   ],
   "source": [
    "data.isnull().sum()\n",
    "\n"
   ]
  },
  {
   "cell_type": "code",
   "execution_count": 31,
   "id": "38921529-becf-437b-9d25-86de576ce512",
   "metadata": {},
   "outputs": [
    {
     "data": {
      "text/plain": [
       "((614, 8), (154, 8), (614,), (154,))"
      ]
     },
     "execution_count": 31,
     "metadata": {},
     "output_type": "execute_result"
    }
   ],
   "source": [
    "# 데이터와 타겟 분리\n",
    "from sklearn.preprocessing import StandardScaler\n",
    "from sklearn.model_selection import train_test_split\n",
    "\n",
    "\n",
    "X = data.drop('Outcome', axis=1).values\n",
    "y = data['Outcome'].values\n",
    "# Standardize the data\n",
    "scaler = StandardScaler()\n",
    "X = scaler.fit_transform(X)\n",
    "\n",
    "# Split the dataset into training and test sets\n",
    "X_train, X_test, y_train, y_test = train_test_split(X, y, test_size=0.2, random_state=0)\n",
    "X_train.shape, X_test.shape, y_train.shape, y_test.shape, "
   ]
  },
  {
   "cell_type": "code",
   "execution_count": 33,
   "id": "c7228ba3-c522-4c7e-bb2b-da5270e55b27",
   "metadata": {},
   "outputs": [
    {
     "data": {
      "text/plain": [
       "(torch.Size([614, 8]),\n",
       " torch.Size([154, 8]),\n",
       " torch.Size([614]),\n",
       " torch.Size([154]))"
      ]
     },
     "execution_count": 33,
     "metadata": {},
     "output_type": "execute_result"
    }
   ],
   "source": [
    "# Convert to PyTorch tensors\n",
    "X_train = torch.tensor(X_train, dtype=torch.float32)\n",
    "y_train = torch.tensor(y_train, dtype=torch.int64)\n",
    "X_test = torch.tensor(X_test, dtype=torch.float32)\n",
    "y_test = torch.tensor(y_test, dtype=torch.int64)\n",
    "# Create DataLoader\n",
    "train_dataset = TensorDataset(X_train, y_train)\n",
    "train_dataloader = DataLoader(train_dataset, batch_size=32, shuffle=True)\n",
    "\n",
    "test_dataset = TensorDataset(X_test, y_test)\n",
    "test_dataloader = DataLoader(test_dataset, batch_size=32, shuffle=False)\n",
    "X_train.shape, X_test.shape, y_train.shape, y_test.shape"
   ]
  },
  {
   "cell_type": "code",
   "execution_count": 37,
   "id": "da81fb5e-5845-4c24-a0e6-50c9519cb1e6",
   "metadata": {},
   "outputs": [],
   "source": [
    "class DiabetesDense(nn.Module):\n",
    "    def __init__(self):\n",
    "        super(DiabetesDense, self).__init__()\n",
    "        self.fc1 = nn.Linear(8, 64)\n",
    "        self.fc2 = nn.Linear(64, 32)\n",
    "        self.fc3 = nn.Linear(32, 2)  # 2 classes in the dataset\n",
    "    \n",
    "    def forward(self, x):\n",
    "        x = torch.relu(self.fc1(x))\n",
    "        x = torch.relu(self.fc2(x))\n",
    "        x = self.fc3(x)\n",
    "        return x\n",
    "\n",
    "# Initialize the model, loss function, and optimizer\n",
    "model = DiabetesDense()"
   ]
  },
  {
   "cell_type": "code",
   "execution_count": 39,
   "id": "d59b3f52-9c54-4ed4-be44-0a23c2f4c9a4",
   "metadata": {},
   "outputs": [],
   "source": [
    "criterion = nn.CrossEntropyLoss()\n",
    "optimizer = optim.Adam(model.parameters(), lr=0.001)"
   ]
  },
  {
   "cell_type": "code",
   "execution_count": 41,
   "id": "b578013c-8386-4db7-bf96-31d382abc57d",
   "metadata": {},
   "outputs": [
    {
     "name": "stdout",
     "output_type": "stream",
     "text": [
      "Epoch 1/20, Loss: 1.2733, Accuracy: 74.68%\n",
      "Epoch 2/20, Loss: 0.9605, Accuracy: 75.97%\n",
      "Epoch 3/20, Loss: 0.7186, Accuracy: 77.92%\n",
      "Epoch 4/20, Loss: 0.5824, Accuracy: 77.27%\n",
      "Epoch 5/20, Loss: 0.5223, Accuracy: 80.52%\n",
      "Epoch 6/20, Loss: 0.4913, Accuracy: 81.82%\n",
      "Epoch 7/20, Loss: 0.4920, Accuracy: 82.47%\n",
      "Epoch 8/20, Loss: 0.5098, Accuracy: 81.82%\n",
      "Epoch 9/20, Loss: 0.4798, Accuracy: 82.47%\n",
      "Epoch 10/20, Loss: 0.4684, Accuracy: 82.47%\n",
      "Epoch 11/20, Loss: 0.4665, Accuracy: 81.82%\n",
      "Epoch 12/20, Loss: 0.4604, Accuracy: 82.47%\n",
      "Epoch 13/20, Loss: 0.4555, Accuracy: 81.17%\n",
      "Epoch 14/20, Loss: 0.4510, Accuracy: 81.82%\n",
      "Epoch 15/20, Loss: 0.4534, Accuracy: 81.17%\n",
      "Epoch 16/20, Loss: 0.4429, Accuracy: 83.12%\n",
      "Epoch 17/20, Loss: 0.4586, Accuracy: 82.47%\n",
      "Epoch 18/20, Loss: 0.4531, Accuracy: 81.17%\n",
      "Epoch 19/20, Loss: 0.4520, Accuracy: 83.12%\n",
      "Epoch 20/20, Loss: 0.4458, Accuracy: 80.52%\n",
      "Training complete.\n"
     ]
    }
   ],
   "source": [
    "# Variables to store loss and accuracy\n",
    "train_losses = []\n",
    "test_accuracies = []\n",
    "\n",
    "# Training loop\n",
    "num_epochs = 20\n",
    "for epoch in range(num_epochs):\n",
    "    model.train()\n",
    "    running_loss = 0.0\n",
    "    for inputs, labels in train_dataloader:\n",
    "        # Zero the parameter gradients\n",
    "        optimizer.zero_grad()\n",
    "\n",
    "        # Forward pass\n",
    "        outputs = model(inputs)\n",
    "        loss = criterion(outputs, labels)\n",
    "\n",
    "        # Backward pass and optimize\n",
    "        loss.backward()\n",
    "        optimizer.step()\n",
    "\n",
    "        running_loss += loss.item()\n",
    "\n",
    "    # Calculate average loss over an epoch\n",
    "    train_losses.append(running_loss / len(train_dataloader))\n",
    "\n",
    "    # Evaluate on test data\n",
    "    model.eval()\n",
    "    correct = 0\n",
    "    total = 0\n",
    "    with torch.no_grad():\n",
    "        for inputs, labels in test_dataloader:\n",
    "            outputs = model(inputs)\n",
    "            _, predicted = torch.max(outputs.data, 1)\n",
    "            total += labels.size(0)\n",
    "            correct += (predicted == labels).sum().item()\n",
    "\n",
    "    accuracy = 100 * correct / total\n",
    "    test_accuracies.append(accuracy)\n",
    "\n",
    "    print(f\"Epoch {epoch + 1}/{num_epochs}, Loss: {train_losses[-1]:.4f}, Accuracy: {accuracy:.2f}%\")\n",
    "\n",
    "print(\"Training complete.\")"
   ]
  },
  {
   "cell_type": "code",
   "execution_count": 43,
   "id": "4ef53664-9508-4c74-a179-656909c9f3c9",
   "metadata": {},
   "outputs": [
    {
     "name": "stdout",
     "output_type": "stream",
     "text": [
      "Confusion Matrix:\n",
      "[[94 13]\n",
      " [17 30]]\n",
      "F1 Score: 0.80\n",
      "Precision: 0.80\n",
      "Recall: 0.81\n",
      "Specificity: 0.76\n"
     ]
    }
   ],
   "source": [
    "# Evaluation\n",
    "model.eval()\n",
    "all_labels = []\n",
    "all_predictions = []\n",
    "with torch.no_grad():\n",
    "    for inputs, labels in test_dataloader:\n",
    "        outputs = model(inputs)\n",
    "        _, predicted = torch.max(outputs.data, 1)\n",
    "        all_labels.extend(labels.cpu().numpy())\n",
    "        all_predictions.extend(predicted.cpu().numpy())\n",
    "\n",
    "# Convert to numpy arrays\n",
    "all_labels = np.array(all_labels)\n",
    "all_predictions = np.array(all_predictions)\n",
    "\n",
    "# Calculate metrics\n",
    "conf_matrix = confusion_matrix(all_labels, all_predictions)\n",
    "f1 = f1_score(all_labels, all_predictions, average='weighted')\n",
    "precision = precision_score(all_labels, all_predictions, average='weighted')\n",
    "recall = recall_score(all_labels, all_predictions, average='weighted')\n",
    "\n",
    "# Calculate specificity for each class\n",
    "specificity = []\n",
    "for i in range(conf_matrix.shape[0]):\n",
    "    tn = conf_matrix.sum() - (conf_matrix[i, :].sum() + conf_matrix[:, i].sum() - conf_matrix[i, i])\n",
    "    fp = conf_matrix[:, i].sum() - conf_matrix[i, i]\n",
    "    specificity.append(tn / (tn + fp))\n",
    "\n",
    "print(f'Confusion Matrix:\\n{conf_matrix}')\n",
    "print(f'F1 Score: {f1:.2f}')\n",
    "print(f'Precision: {precision:.2f}')\n",
    "print(f'Recall: {recall:.2f}')\n",
    "print(f'Specificity: {np.mean(specificity):.2f}')"
   ]
  },
  {
   "cell_type": "code",
   "execution_count": 45,
   "id": "bdc46126-563e-4ed5-98e6-734f81f3a171",
   "metadata": {},
   "outputs": [
    {
     "data": {
      "image/png": "[encoded data removed]",
      "text/plain": [
       "<Figure size 1200x500 with 2 Axes>"
      ]
     },
     "metadata": {},
     "output_type": "display_data"
    }
   ],
   "source": [
    "# Plot the loss and accuracy\n",
    "plt.figure(figsize=(12, 5))\n",
    "\n",
    "# Plot loss\n",
    "plt.subplot(1, 2, 1)\n",
    "plt.plot(train_losses, label='Training Loss')\n",
    "plt.xlabel('Epoch')\n",
    "plt.ylabel('Loss')\n",
    "plt.title('Training Loss Over Epochs')\n",
    "plt.legend()\n",
    "\n",
    "# Plot accuracy\n",
    "plt.subplot(1, 2, 2)\n",
    "plt.plot(test_accuracies, label='Test Accuracy')\n",
    "plt.xlabel('Epoch')\n",
    "plt.ylabel('Accuracy (%)')\n",
    "plt.title('Test Accuracy Over Epochs')\n",
    "plt.legend()\n",
    "\n",
    "plt.show()"
   ]
  },
  {
   "cell_type": "code",
   "execution_count": null,
   "id": "4b87a140-be5a-4d9d-8ba0-d788b5065281",
   "metadata": {},
   "outputs": [],
   "source": []
  }
 ],
 "metadata": {
  "kernelspec": {
   "display_name": "Python [conda env:base] *",
   "language": "python",
   "name": "conda-base-py"
  },
  "language_info": {
   "codemirror_mode": {
    "name": "ipython",
    "version": 3
   },
   "file_extension": ".py",
   "mimetype": "text/x-python",
   "name": "python",
   "nbconvert_exporter": "python",
   "pygments_lexer": "ipython3",
   "version": "3.12.7"
  }
 },
 "nbformat": 4,
 "nbformat_minor": 5
}
